{
 "cells": [
  {
   "cell_type": "code",
   "execution_count": 58,
   "metadata": {},
   "outputs": [],
   "source": [
    "from keras.models import Sequential, load_model\n",
    "from keras.layers import Dense, Activation, Conv2D, MaxPooling2D, Flatten, Dropout,ZeroPadding2D,Convolution2D,BatchNormalization  \n",
    "from keras.utils import to_categorical\n",
    "import pandas as pd\n",
    "import numpy as np\n",
    "from keras.optimizers import SGD,Adam"
   ]
  },
  {
   "cell_type": "code",
   "execution_count": 59,
   "metadata": {},
   "outputs": [],
   "source": [
    "train = pd.read_csv(\"train.csv\",header=None,sep ='\\s+',skiprows=[0])"
   ]
  },
  {
   "cell_type": "code",
   "execution_count": 60,
   "metadata": {},
   "outputs": [],
   "source": [
    "train_y=train[0].str.split(',',expand=True)[0]\n",
    "train[0]= train[0].str.split(',',expand=True)[1]\n",
    "#train.insert(0,'l',train[0].str.split(',',expand=True)[0])"
   ]
  },
  {
   "cell_type": "code",
   "execution_count": 61,
   "metadata": {},
   "outputs": [],
   "source": [
    "train_x = np.array(train).astype(float)\n",
    "train_x = train_x.reshape(train_x.shape[0],48,48,1)\n",
    "train_x = train_x/255\n",
    "train_y = np.array(train_y).astype(int)"
   ]
  },
  {
   "cell_type": "code",
   "execution_count": 62,
   "metadata": {
    "scrolled": true
   },
   "outputs": [
    {
     "name": "stdout",
     "output_type": "stream",
     "text": [
      "(28709, 48, 48, 1)\n"
     ]
    }
   ],
   "source": [
    "train_y = to_categorical(train_y, num_classes=7)\n",
    "print(train_x.shape)"
   ]
  },
  {
   "cell_type": "code",
   "execution_count": 63,
   "metadata": {},
   "outputs": [],
   "source": [
    "model = Sequential()\n",
    "model.add(ZeroPadding2D( (1, 1), input_shape=(48,48,1)))\n",
    "model.add(Convolution2D(32,(3,3)))\n",
    "model.add(BatchNormalization())\n",
    "model.add(Activation('relu'))\n",
    "\n",
    "\n",
    "model.add(ZeroPadding2D((1,1)))\n",
    "model.add(Convolution2D(32,(3,3)))\n",
    "model.add(BatchNormalization())\n",
    "model.add(Activation('relu'))\n",
    "\n",
    "'''\n",
    "model.add(ZeroPadding2D((1,1)))\n",
    "model.add(Convolution2D(32,3,3))\n",
    "model.add(Activation('relu'))\n",
    "model.add(BatchNormalization())\n",
    "'''\n",
    "model.add(MaxPooling2D(pool_size=(2, 2)))\n",
    "model.add(Dropout(0.35))\n",
    "          \n",
    "          \n",
    "model.add(ZeroPadding2D((1,1)))\n",
    "model.add(Convolution2D(64,(3,3)))\n",
    "model.add(BatchNormalization())\n",
    "model.add(Activation('relu'))\n",
    "\n",
    "\n",
    "model.add(ZeroPadding2D((1,1)))\n",
    "model.add(Convolution2D(64,(3,3)))\n",
    "model.add(BatchNormalization())\n",
    "model.add(Activation('relu'))\n",
    "\n",
    "'''\n",
    "model.add(ZeroPadding2D((1,1)))\n",
    "model.add(Convolution2D(64,3,3))\n",
    "model.add(Activation('relu'))\n",
    "model.add(BatchNormalization())\n",
    "'''\n",
    "model.add(MaxPooling2D(pool_size=(2, 2)))\n",
    "model.add(Dropout(0.35))\n",
    "\n",
    "\n",
    "\n",
    "\n",
    "model.add(ZeroPadding2D((1,1)))\n",
    "model.add(Convolution2D(128,(3,3)))\n",
    "model.add(BatchNormalization())\n",
    "model.add(Activation('relu'))\n",
    "\n",
    "\n",
    "model.add(ZeroPadding2D((1,1)))\n",
    "model.add(Convolution2D(128,(3,3)))\n",
    "model.add(BatchNormalization())\n",
    "model.add(Activation('relu'))\n",
    "\n",
    "'''\n",
    "model.add(ZeroPadding2D((1,1)))\n",
    "model.add(Convolution2D(128,3,3))\n",
    "model.add(Activation('relu'))\n",
    "model.add(BatchNormalization())\n",
    "'''\n",
    "model.add(MaxPooling2D(pool_size=(2, 2)))\n",
    "model.add(Dropout(0.35))\n",
    "\n",
    "\n",
    "\n",
    "# Fully connected part\n",
    "model.add(Flatten())\n",
    "model.add(Dense(128))\n",
    "model.add(BatchNormalization())\n",
    "model.add(Activation('relu'))\n",
    "model.add(Dropout(0.35))\n",
    "\n",
    "\n",
    "model.add(Dense(128))\n",
    "model.add(BatchNormalization())\n",
    "model.add(Activation('relu'))\n",
    "model.add(Dropout(0.35))\n",
    "\n",
    "\n",
    "\n",
    "model.add(Dense(7))\n",
    "model.add(BatchNormalization())\n",
    "model.add(Activation('softmax'))\n",
    "\n",
    "adam = Adam(lr=0.0005, decay=5e-6)\n",
    "model.compile(loss='categorical_crossentropy', optimizer=adam, metrics=['accuracy'])\n",
    "#model.summary() # show the whole model in terminal\n",
    "\n",
    "\n",
    "#model.fit(feat_tr,label_tr,batch_size=100,validation_split=0.05,epochs=100)\n"
   ]
  },
  {
   "cell_type": "code",
   "execution_count": 64,
   "metadata": {
    "scrolled": true
   },
   "outputs": [
    {
     "name": "stdout",
     "output_type": "stream",
     "text": [
      "Train on 27273 samples, validate on 1436 samples\n",
      "Epoch 1/100\n",
      "27273/27273 [==============================] - 39s 1ms/step - loss: 1.9588 - acc: 0.2417 - val_loss: 1.8182 - val_acc: 0.2960\n",
      "Epoch 2/100\n",
      "27273/27273 [==============================] - 34s 1ms/step - loss: 1.6682 - acc: 0.3768 - val_loss: 1.6638 - val_acc: 0.3830\n",
      "Epoch 3/100\n",
      "27273/27273 [==============================] - 33s 1ms/step - loss: 1.5317 - acc: 0.4300 - val_loss: 1.4948 - val_acc: 0.4457\n",
      "Epoch 4/100\n",
      "27273/27273 [==============================] - 33s 1ms/step - loss: 1.4367 - acc: 0.4673 - val_loss: 1.4505 - val_acc: 0.4638\n",
      "Epoch 5/100\n",
      "27273/27273 [==============================] - 33s 1ms/step - loss: 1.3662 - acc: 0.4915 - val_loss: 1.3355 - val_acc: 0.4958\n",
      "Epoch 6/100\n",
      "27273/27273 [==============================] - 33s 1ms/step - loss: 1.3186 - acc: 0.5092 - val_loss: 1.3592 - val_acc: 0.4742\n",
      "Epoch 7/100\n",
      "27273/27273 [==============================] - 33s 1ms/step - loss: 1.2754 - acc: 0.5277 - val_loss: 1.2719 - val_acc: 0.5237\n",
      "Epoch 8/100\n",
      "27273/27273 [==============================] - 33s 1ms/step - loss: 1.2372 - acc: 0.5413 - val_loss: 1.1894 - val_acc: 0.5557\n",
      "Epoch 9/100\n",
      "27273/27273 [==============================] - 33s 1ms/step - loss: 1.2007 - acc: 0.5545 - val_loss: 1.1824 - val_acc: 0.5460\n",
      "Epoch 10/100\n",
      "27273/27273 [==============================] - 34s 1ms/step - loss: 1.1720 - acc: 0.5684 - val_loss: 1.1729 - val_acc: 0.5460\n",
      "Epoch 11/100\n",
      "27273/27273 [==============================] - 34s 1ms/step - loss: 1.1489 - acc: 0.5758 - val_loss: 1.1354 - val_acc: 0.5891\n",
      "Epoch 12/100\n",
      "27273/27273 [==============================] - 34s 1ms/step - loss: 1.1229 - acc: 0.5842 - val_loss: 1.0970 - val_acc: 0.5947\n",
      "Epoch 13/100\n",
      "27273/27273 [==============================] - 34s 1ms/step - loss: 1.1036 - acc: 0.5957 - val_loss: 1.1601 - val_acc: 0.5717\n",
      "Epoch 14/100\n",
      "27273/27273 [==============================] - 34s 1ms/step - loss: 1.0799 - acc: 0.6064 - val_loss: 1.0467 - val_acc: 0.6086\n",
      "Epoch 15/100\n",
      "27273/27273 [==============================] - 34s 1ms/step - loss: 1.0635 - acc: 0.6094 - val_loss: 1.0459 - val_acc: 0.6149\n",
      "Epoch 16/100\n",
      "27273/27273 [==============================] - 34s 1ms/step - loss: 1.0396 - acc: 0.6180 - val_loss: 1.0593 - val_acc: 0.5905\n",
      "Epoch 17/100\n",
      "27273/27273 [==============================] - 34s 1ms/step - loss: 1.0182 - acc: 0.6260 - val_loss: 1.0159 - val_acc: 0.6309\n",
      "Epoch 18/100\n",
      "27273/27273 [==============================] - 34s 1ms/step - loss: 1.0087 - acc: 0.6290 - val_loss: 1.0000 - val_acc: 0.6247\n",
      "Epoch 19/100\n",
      "27273/27273 [==============================] - 34s 1ms/step - loss: 0.9915 - acc: 0.6356 - val_loss: 1.0128 - val_acc: 0.6184\n",
      "Epoch 20/100\n",
      "27273/27273 [==============================] - 34s 1ms/step - loss: 0.9688 - acc: 0.6437 - val_loss: 1.0259 - val_acc: 0.6114\n",
      "Epoch 21/100\n",
      "27273/27273 [==============================] - 34s 1ms/step - loss: 0.9497 - acc: 0.6500 - val_loss: 1.0307 - val_acc: 0.6128\n",
      "Epoch 22/100\n",
      "27273/27273 [==============================] - 34s 1ms/step - loss: 0.9397 - acc: 0.6557 - val_loss: 1.0349 - val_acc: 0.6135\n",
      "Epoch 23/100\n",
      "27273/27273 [==============================] - 34s 1ms/step - loss: 0.9264 - acc: 0.6592 - val_loss: 1.0005 - val_acc: 0.6288\n",
      "Epoch 24/100\n",
      "27273/27273 [==============================] - 34s 1ms/step - loss: 0.9090 - acc: 0.6697 - val_loss: 1.0460 - val_acc: 0.6065\n",
      "Epoch 25/100\n",
      "27273/27273 [==============================] - 34s 1ms/step - loss: 0.8914 - acc: 0.6763 - val_loss: 1.0099 - val_acc: 0.6142\n",
      "Epoch 26/100\n",
      "27273/27273 [==============================] - 34s 1ms/step - loss: 0.8785 - acc: 0.6759 - val_loss: 1.0106 - val_acc: 0.6260\n",
      "Epoch 27/100\n",
      "27273/27273 [==============================] - 34s 1ms/step - loss: 0.8661 - acc: 0.6830 - val_loss: 0.9984 - val_acc: 0.6184\n",
      "Epoch 28/100\n",
      "27273/27273 [==============================] - 34s 1ms/step - loss: 0.8489 - acc: 0.6928 - val_loss: 0.9794 - val_acc: 0.6295\n",
      "Epoch 29/100\n",
      "27273/27273 [==============================] - 34s 1ms/step - loss: 0.8402 - acc: 0.6945 - val_loss: 0.9852 - val_acc: 0.6344\n",
      "Epoch 30/100\n",
      "27273/27273 [==============================] - 34s 1ms/step - loss: 0.8257 - acc: 0.6999 - val_loss: 0.9914 - val_acc: 0.6358\n",
      "Epoch 31/100\n",
      "27273/27273 [==============================] - 34s 1ms/step - loss: 0.8169 - acc: 0.7019 - val_loss: 0.9960 - val_acc: 0.6365\n",
      "Epoch 32/100\n",
      "27273/27273 [==============================] - 34s 1ms/step - loss: 0.8009 - acc: 0.7103 - val_loss: 0.9555 - val_acc: 0.6365\n",
      "Epoch 33/100\n",
      "27273/27273 [==============================] - 34s 1ms/step - loss: 0.7842 - acc: 0.7144 - val_loss: 0.9884 - val_acc: 0.6455\n",
      "Epoch 34/100\n",
      "27273/27273 [==============================] - 34s 1ms/step - loss: 0.7651 - acc: 0.7227 - val_loss: 1.0244 - val_acc: 0.6253\n",
      "Epoch 35/100\n",
      "27273/27273 [==============================] - 34s 1ms/step - loss: 0.7671 - acc: 0.7224 - val_loss: 0.9639 - val_acc: 0.6469\n",
      "Epoch 36/100\n",
      "27273/27273 [==============================] - 34s 1ms/step - loss: 0.7484 - acc: 0.7282 - val_loss: 0.9543 - val_acc: 0.6497\n",
      "Epoch 37/100\n",
      "27273/27273 [==============================] - 33s 1ms/step - loss: 0.7384 - acc: 0.7312 - val_loss: 0.9666 - val_acc: 0.6532\n",
      "Epoch 38/100\n",
      "27273/27273 [==============================] - 33s 1ms/step - loss: 0.7250 - acc: 0.7390 - val_loss: 0.9920 - val_acc: 0.6462\n",
      "Epoch 39/100\n",
      "27273/27273 [==============================] - 33s 1ms/step - loss: 0.7155 - acc: 0.7422 - val_loss: 0.9684 - val_acc: 0.6525\n",
      "Epoch 40/100\n",
      "27273/27273 [==============================] - 33s 1ms/step - loss: 0.6977 - acc: 0.7490 - val_loss: 0.9571 - val_acc: 0.6525\n",
      "Epoch 41/100\n",
      "11800/27273 [===========>..................] - ETA: 18s - loss: 0.6852 - acc: 0.7503"
     ]
    },
    {
     "ename": "KeyboardInterrupt",
     "evalue": "",
     "output_type": "error",
     "traceback": [
      "\u001b[1;31m---------------------------------------------------------------------------\u001b[0m",
      "\u001b[1;31mKeyboardInterrupt\u001b[0m                         Traceback (most recent call last)",
      "\u001b[1;32m<ipython-input-64-e85694045214>\u001b[0m in \u001b[0;36m<module>\u001b[1;34m()\u001b[0m\n\u001b[1;32m----> 1\u001b[1;33m \u001b[0mmodel\u001b[0m\u001b[1;33m.\u001b[0m\u001b[0mfit\u001b[0m\u001b[1;33m(\u001b[0m\u001b[0mtrain_x\u001b[0m\u001b[1;33m,\u001b[0m \u001b[0mtrain_y\u001b[0m\u001b[1;33m,\u001b[0m \u001b[0mepochs\u001b[0m\u001b[1;33m=\u001b[0m\u001b[1;36m100\u001b[0m\u001b[1;33m,\u001b[0m \u001b[0mbatch_size\u001b[0m\u001b[1;33m=\u001b[0m\u001b[1;36m100\u001b[0m\u001b[1;33m,\u001b[0m\u001b[0mvalidation_split\u001b[0m\u001b[1;33m=\u001b[0m\u001b[1;36m0.05\u001b[0m\u001b[1;33m)\u001b[0m\u001b[1;33m\u001b[0m\u001b[0m\n\u001b[0m",
      "\u001b[1;32m~\\Anaconda3\\envs\\tensorflow\\lib\\site-packages\\keras\\engine\\training.py\u001b[0m in \u001b[0;36mfit\u001b[1;34m(self, x, y, batch_size, epochs, verbose, callbacks, validation_split, validation_data, shuffle, class_weight, sample_weight, initial_epoch, steps_per_epoch, validation_steps, **kwargs)\u001b[0m\n\u001b[0;32m   1035\u001b[0m                                         \u001b[0minitial_epoch\u001b[0m\u001b[1;33m=\u001b[0m\u001b[0minitial_epoch\u001b[0m\u001b[1;33m,\u001b[0m\u001b[1;33m\u001b[0m\u001b[0m\n\u001b[0;32m   1036\u001b[0m                                         \u001b[0msteps_per_epoch\u001b[0m\u001b[1;33m=\u001b[0m\u001b[0msteps_per_epoch\u001b[0m\u001b[1;33m,\u001b[0m\u001b[1;33m\u001b[0m\u001b[0m\n\u001b[1;32m-> 1037\u001b[1;33m                                         validation_steps=validation_steps)\n\u001b[0m\u001b[0;32m   1038\u001b[0m \u001b[1;33m\u001b[0m\u001b[0m\n\u001b[0;32m   1039\u001b[0m     def evaluate(self, x=None, y=None,\n",
      "\u001b[1;32m~\\Anaconda3\\envs\\tensorflow\\lib\\site-packages\\keras\\engine\\training_arrays.py\u001b[0m in \u001b[0;36mfit_loop\u001b[1;34m(model, f, ins, out_labels, batch_size, epochs, verbose, callbacks, val_f, val_ins, shuffle, callback_metrics, initial_epoch, steps_per_epoch, validation_steps)\u001b[0m\n\u001b[0;32m    197\u001b[0m                     \u001b[0mins_batch\u001b[0m\u001b[1;33m[\u001b[0m\u001b[0mi\u001b[0m\u001b[1;33m]\u001b[0m \u001b[1;33m=\u001b[0m \u001b[0mins_batch\u001b[0m\u001b[1;33m[\u001b[0m\u001b[0mi\u001b[0m\u001b[1;33m]\u001b[0m\u001b[1;33m.\u001b[0m\u001b[0mtoarray\u001b[0m\u001b[1;33m(\u001b[0m\u001b[1;33m)\u001b[0m\u001b[1;33m\u001b[0m\u001b[0m\n\u001b[0;32m    198\u001b[0m \u001b[1;33m\u001b[0m\u001b[0m\n\u001b[1;32m--> 199\u001b[1;33m                 \u001b[0mouts\u001b[0m \u001b[1;33m=\u001b[0m \u001b[0mf\u001b[0m\u001b[1;33m(\u001b[0m\u001b[0mins_batch\u001b[0m\u001b[1;33m)\u001b[0m\u001b[1;33m\u001b[0m\u001b[0m\n\u001b[0m\u001b[0;32m    200\u001b[0m                 \u001b[0mouts\u001b[0m \u001b[1;33m=\u001b[0m \u001b[0mto_list\u001b[0m\u001b[1;33m(\u001b[0m\u001b[0mouts\u001b[0m\u001b[1;33m)\u001b[0m\u001b[1;33m\u001b[0m\u001b[0m\n\u001b[0;32m    201\u001b[0m                 \u001b[1;32mfor\u001b[0m \u001b[0ml\u001b[0m\u001b[1;33m,\u001b[0m \u001b[0mo\u001b[0m \u001b[1;32min\u001b[0m \u001b[0mzip\u001b[0m\u001b[1;33m(\u001b[0m\u001b[0mout_labels\u001b[0m\u001b[1;33m,\u001b[0m \u001b[0mouts\u001b[0m\u001b[1;33m)\u001b[0m\u001b[1;33m:\u001b[0m\u001b[1;33m\u001b[0m\u001b[0m\n",
      "\u001b[1;32m~\\Anaconda3\\envs\\tensorflow\\lib\\site-packages\\keras\\backend\\tensorflow_backend.py\u001b[0m in \u001b[0;36m__call__\u001b[1;34m(self, inputs)\u001b[0m\n\u001b[0;32m   2664\u001b[0m                 \u001b[1;32mreturn\u001b[0m \u001b[0mself\u001b[0m\u001b[1;33m.\u001b[0m\u001b[0m_legacy_call\u001b[0m\u001b[1;33m(\u001b[0m\u001b[0minputs\u001b[0m\u001b[1;33m)\u001b[0m\u001b[1;33m\u001b[0m\u001b[0m\n\u001b[0;32m   2665\u001b[0m \u001b[1;33m\u001b[0m\u001b[0m\n\u001b[1;32m-> 2666\u001b[1;33m             \u001b[1;32mreturn\u001b[0m \u001b[0mself\u001b[0m\u001b[1;33m.\u001b[0m\u001b[0m_call\u001b[0m\u001b[1;33m(\u001b[0m\u001b[0minputs\u001b[0m\u001b[1;33m)\u001b[0m\u001b[1;33m\u001b[0m\u001b[0m\n\u001b[0m\u001b[0;32m   2667\u001b[0m         \u001b[1;32melse\u001b[0m\u001b[1;33m:\u001b[0m\u001b[1;33m\u001b[0m\u001b[0m\n\u001b[0;32m   2668\u001b[0m             \u001b[1;32mif\u001b[0m \u001b[0mpy_any\u001b[0m\u001b[1;33m(\u001b[0m\u001b[0mis_tensor\u001b[0m\u001b[1;33m(\u001b[0m\u001b[0mx\u001b[0m\u001b[1;33m)\u001b[0m \u001b[1;32mfor\u001b[0m \u001b[0mx\u001b[0m \u001b[1;32min\u001b[0m \u001b[0minputs\u001b[0m\u001b[1;33m)\u001b[0m\u001b[1;33m:\u001b[0m\u001b[1;33m\u001b[0m\u001b[0m\n",
      "\u001b[1;32m~\\Anaconda3\\envs\\tensorflow\\lib\\site-packages\\keras\\backend\\tensorflow_backend.py\u001b[0m in \u001b[0;36m_call\u001b[1;34m(self, inputs)\u001b[0m\n\u001b[0;32m   2634\u001b[0m                                 \u001b[0msymbol_vals\u001b[0m\u001b[1;33m,\u001b[0m\u001b[1;33m\u001b[0m\u001b[0m\n\u001b[0;32m   2635\u001b[0m                                 session)\n\u001b[1;32m-> 2636\u001b[1;33m         \u001b[0mfetched\u001b[0m \u001b[1;33m=\u001b[0m \u001b[0mself\u001b[0m\u001b[1;33m.\u001b[0m\u001b[0m_callable_fn\u001b[0m\u001b[1;33m(\u001b[0m\u001b[1;33m*\u001b[0m\u001b[0marray_vals\u001b[0m\u001b[1;33m)\u001b[0m\u001b[1;33m\u001b[0m\u001b[0m\n\u001b[0m\u001b[0;32m   2637\u001b[0m         \u001b[1;32mreturn\u001b[0m \u001b[0mfetched\u001b[0m\u001b[1;33m[\u001b[0m\u001b[1;33m:\u001b[0m\u001b[0mlen\u001b[0m\u001b[1;33m(\u001b[0m\u001b[0mself\u001b[0m\u001b[1;33m.\u001b[0m\u001b[0moutputs\u001b[0m\u001b[1;33m)\u001b[0m\u001b[1;33m]\u001b[0m\u001b[1;33m\u001b[0m\u001b[0m\n\u001b[0;32m   2638\u001b[0m \u001b[1;33m\u001b[0m\u001b[0m\n",
      "\u001b[1;32m~\\Anaconda3\\envs\\tensorflow\\lib\\site-packages\\tensorflow\\python\\client\\session.py\u001b[0m in \u001b[0;36m__call__\u001b[1;34m(self, *args)\u001b[0m\n\u001b[0;32m   1449\u001b[0m         \u001b[1;32mif\u001b[0m \u001b[0mself\u001b[0m\u001b[1;33m.\u001b[0m\u001b[0m_session\u001b[0m\u001b[1;33m.\u001b[0m\u001b[0m_created_with_new_api\u001b[0m\u001b[1;33m:\u001b[0m\u001b[1;33m\u001b[0m\u001b[0m\n\u001b[0;32m   1450\u001b[0m           return tf_session.TF_SessionRunCallable(\n\u001b[1;32m-> 1451\u001b[1;33m               self._session._session, self._handle, args, status, None)\n\u001b[0m\u001b[0;32m   1452\u001b[0m         \u001b[1;32melse\u001b[0m\u001b[1;33m:\u001b[0m\u001b[1;33m\u001b[0m\u001b[0m\n\u001b[0;32m   1453\u001b[0m           return tf_session.TF_DeprecatedSessionRunCallable(\n",
      "\u001b[1;31mKeyboardInterrupt\u001b[0m: "
     ]
    }
   ],
   "source": [
    "model.fit(train_x, train_y, epochs=100, batch_size=100,validation_split=0.05)"
   ]
  },
  {
   "cell_type": "code",
   "execution_count": 65,
   "metadata": {},
   "outputs": [],
   "source": [
    "test = pd.read_csv(\"test.csv\",header=None,sep ='\\s+',skiprows=[0])"
   ]
  },
  {
   "cell_type": "code",
   "execution_count": 66,
   "metadata": {},
   "outputs": [],
   "source": [
    "test[0]= test[0].str.split(',',expand=True)[1]"
   ]
  },
  {
   "cell_type": "code",
   "execution_count": 67,
   "metadata": {},
   "outputs": [],
   "source": [
    "test_x = np.array(test).astype(float)\n",
    "test_x = test_x.reshape(test_x.shape[0],48,48,1)\n",
    "test_x = test_x/255\n"
   ]
  },
  {
   "cell_type": "code",
   "execution_count": 68,
   "metadata": {},
   "outputs": [],
   "source": [
    "test_ans = model.predict(test_x)"
   ]
  },
  {
   "cell_type": "code",
   "execution_count": 69,
   "metadata": {},
   "outputs": [
    {
     "data": {
      "text/plain": [
       "4"
      ]
     },
     "execution_count": 69,
     "metadata": {},
     "output_type": "execute_result"
    }
   ],
   "source": [
    "np.argmax(test_ans[7])"
   ]
  },
  {
   "cell_type": "code",
   "execution_count": 70,
   "metadata": {},
   "outputs": [],
   "source": [
    "raw_data = {   'id': [i for i in range(test_ans.shape[0])] ,  'label': [np.argmax(test_ans[i]) for i in range(test_ans.shape[0])]}\n",
    "df = pd.DataFrame(raw_data, columns = ['id'  ,'label'])\n",
    "df.to_csv('exampe.csv',index =False)"
   ]
  },
  {
   "cell_type": "code",
   "execution_count": null,
   "metadata": {},
   "outputs": [],
   "source": []
  }
 ],
 "metadata": {
  "kernelspec": {
   "display_name": "Python 3",
   "language": "python",
   "name": "python3"
  },
  "language_info": {
   "codemirror_mode": {
    "name": "ipython",
    "version": 3
   },
   "file_extension": ".py",
   "mimetype": "text/x-python",
   "name": "python",
   "nbconvert_exporter": "python",
   "pygments_lexer": "ipython3",
   "version": "3.6.5"
  }
 },
 "nbformat": 4,
 "nbformat_minor": 2
}
